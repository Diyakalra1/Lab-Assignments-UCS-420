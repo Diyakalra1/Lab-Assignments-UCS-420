{
 "cells": [
  {
   "cell_type": "markdown",
   "id": "0417510a-f970-4c24-807b-d99b9f6022dd",
   "metadata": {},
   "source": [
    "### 1.1 Write a code to print your name 3 times"
   ]
  },
  {
   "cell_type": "code",
   "execution_count": 1,
   "id": "10ab3058-b391-49b1-a175-30aef7f7dc72",
   "metadata": {},
   "outputs": [
    {
     "name": "stdout",
     "output_type": "stream",
     "text": [
      "Diya\n",
      "Diya\n",
      "Diya\n"
     ]
    }
   ],
   "source": [
    "for i in range(3):\n",
    "    print(\"Diya\")"
   ]
  },
  {
   "cell_type": "markdown",
   "id": "d0b49d13-1250-4e97-bbef-441934abde04",
   "metadata": {},
   "source": [
    "### 2.1 WAP to add three numbers and print the result."
   ]
  },
  {
   "cell_type": "code",
   "execution_count": 3,
   "id": "0cb53f9d-b749-4584-89b4-7496d29a29fe",
   "metadata": {},
   "outputs": [
    {
     "name": "stdout",
     "output_type": "stream",
     "text": [
      "12\n"
     ]
    }
   ],
   "source": [
    "a=2\n",
    "b=3\n",
    "c=7\n",
    "res=a+b+c\n",
    "print(res)"
   ]
  },
  {
   "cell_type": "markdown",
   "id": "726777cf-ed71-464a-9d95-501b10c963da",
   "metadata": {},
   "source": [
    "### 2.2: WAP to concatinate three strings and print the result."
   ]
  },
  {
   "cell_type": "code",
   "execution_count": 8,
   "id": "5e1ae4e0-0adc-439d-bca0-8ee6c6ecccb9",
   "metadata": {},
   "outputs": [
    {
     "name": "stdout",
     "output_type": "stream",
     "text": [
      "Hello, I am the user.\n"
     ]
    }
   ],
   "source": [
    "a=\"Hello, \"\n",
    "b=\"I am\"\n",
    "c=\" the user.\"\n",
    "print(a+b+c)"
   ]
  },
  {
   "cell_type": "markdown",
   "id": "183a940a-2415-4f96-87c6-19ffc25e3b54",
   "metadata": {},
   "source": [
    "###  4.1: WAP to print the table of 7, 9."
   ]
  },
  {
   "cell_type": "code",
   "execution_count": 10,
   "id": "baa75ed5-ba9c-49f3-bc45-0488a6ab122c",
   "metadata": {},
   "outputs": [],
   "source": [
    "def print_table(num):\n",
    "    for i in range(1,11):\n",
    "        print(num,\" X \",i,\" = \",num*i)"
   ]
  },
  {
   "cell_type": "code",
   "execution_count": 11,
   "id": "5abaf944-4d5d-49ab-bc01-6d0bc7ba3430",
   "metadata": {},
   "outputs": [
    {
     "name": "stdout",
     "output_type": "stream",
     "text": [
      "7  X  1  =  7\n",
      "7  X  2  =  14\n",
      "7  X  3  =  21\n",
      "7  X  4  =  28\n",
      "7  X  5  =  35\n",
      "7  X  6  =  42\n",
      "7  X  7  =  49\n",
      "7  X  8  =  56\n",
      "7  X  9  =  63\n",
      "7  X  10  =  70\n"
     ]
    }
   ],
   "source": [
    "print_table(7)"
   ]
  },
  {
   "cell_type": "code",
   "execution_count": 12,
   "id": "756bf666-9871-477a-a488-a27c228a9453",
   "metadata": {},
   "outputs": [
    {
     "name": "stdout",
     "output_type": "stream",
     "text": [
      "9  X  1  =  9\n",
      "9  X  2  =  18\n",
      "9  X  3  =  27\n",
      "9  X  4  =  36\n",
      "9  X  5  =  45\n",
      "9  X  6  =  54\n",
      "9  X  7  =  63\n",
      "9  X  8  =  72\n",
      "9  X  9  =  81\n",
      "9  X  10  =  90\n"
     ]
    }
   ],
   "source": [
    "print_table(9)"
   ]
  },
  {
   "cell_type": "markdown",
   "id": "99774255-a129-42b6-b331-b24d411945d3",
   "metadata": {},
   "source": [
    "### 4.2 WAP to print the table of n and n is given by user."
   ]
  },
  {
   "cell_type": "code",
   "execution_count": 16,
   "id": "04555e23-f543-4372-926b-9cac343e8ef2",
   "metadata": {},
   "outputs": [
    {
     "name": "stdin",
     "output_type": "stream",
     "text": [
      "Enter the value of the number 5\n"
     ]
    }
   ],
   "source": [
    "n=int(input(\"Enter the value of the number\"))"
   ]
  },
  {
   "cell_type": "code",
   "execution_count": 17,
   "id": "8cc4018f-9665-40ff-92dd-eb51039d31d5",
   "metadata": {},
   "outputs": [
    {
     "name": "stdout",
     "output_type": "stream",
     "text": [
      "5  X  1  =  5\n",
      "5  X  2  =  10\n",
      "5  X  3  =  15\n",
      "5  X  4  =  20\n",
      "5  X  5  =  25\n",
      "5  X  6  =  30\n",
      "5  X  7  =  35\n",
      "5  X  8  =  40\n",
      "5  X  9  =  45\n",
      "5  X  10  =  50\n"
     ]
    }
   ],
   "source": [
    "print_table(n)"
   ]
  },
  {
   "cell_type": "markdown",
   "id": "2f7b2016-423b-4ee9-a5ad-f03d338e9a57",
   "metadata": {},
   "source": [
    "### 4.3 WAP to add all the numbers from 1 to n and n is given by user."
   ]
  },
  {
   "cell_type": "code",
   "execution_count": 19,
   "id": "c17fccbf-a7f6-4758-99da-5cc88dd3c0e3",
   "metadata": {},
   "outputs": [
    {
     "name": "stdin",
     "output_type": "stream",
     "text": [
      "Enter number 3\n"
     ]
    },
    {
     "name": "stdout",
     "output_type": "stream",
     "text": [
      "The sum upto  3  is  6\n"
     ]
    }
   ],
   "source": [
    "n=int(input(\"Enter number\"))\n",
    "sum=0\n",
    "for i in range(n+1):\n",
    "    sum+=i\n",
    "print(\"The sum upto \",n, \" is \", sum)"
   ]
  },
  {
   "cell_type": "markdown",
   "id": "7e3ff7cb-441c-45b4-97f4-41a9414baffc",
   "metadata": {},
   "source": [
    "### 5.1: WAP to find max amoung three numbers and input from user."
   ]
  },
  {
   "cell_type": "code",
   "execution_count": 21,
   "id": "54dbcf8b-5fe2-434a-a6b9-6d4d2af94d12",
   "metadata": {},
   "outputs": [
    {
     "name": "stdin",
     "output_type": "stream",
     "text": [
      "Enter number 34\n",
      "Enter number 43\n",
      "Enter number 45\n"
     ]
    },
    {
     "name": "stdout",
     "output_type": "stream",
     "text": [
      "45\n"
     ]
    }
   ],
   "source": [
    "a1=int(input(\"Enter number\"))\n",
    "a2=int(input(\"Enter number\"))\n",
    "a3=int(input(\"Enter number\"))\n",
    "print(max(a1,a2,a3))"
   ]
  },
  {
   "cell_type": "markdown",
   "id": "333cb272-5158-4445-831e-0f5cc2d088dd",
   "metadata": {},
   "source": [
    " ### 5.2: WAP to add all numbers divisible by 7 and 9 from 1 to n and n is given by the user."
   ]
  },
  {
   "cell_type": "code",
   "execution_count": 24,
   "id": "ea777d30-ce6a-4972-a86e-1d8aaff5de0c",
   "metadata": {},
   "outputs": [
    {
     "name": "stdin",
     "output_type": "stream",
     "text": [
      "Enter value of n 63\n"
     ]
    },
    {
     "name": "stdout",
     "output_type": "stream",
     "text": [
      "63\n"
     ]
    }
   ],
   "source": [
    "n=int(input(\"Enter value of n\"))\n",
    "sum=0\n",
    "for i in range(1,n+1):\n",
    "    if(i%7==0 and i%9==0):\n",
    "        sum+=i\n",
    "print(sum)"
   ]
  },
  {
   "cell_type": "markdown",
   "id": "3b86f729-3bc0-4c7a-9f85-6c695c5aa2e9",
   "metadata": {},
   "source": [
    "### 5.3 WAP to add all prime numbers from 1 to n and n is given by the user."
   ]
  },
  {
   "cell_type": "code",
   "execution_count": 25,
   "id": "76704b21-676f-460e-8880-60d408a854dd",
   "metadata": {},
   "outputs": [
    {
     "name": "stdin",
     "output_type": "stream",
     "text": [
      "Enter value of n 2\n"
     ]
    },
    {
     "name": "stdout",
     "output_type": "stream",
     "text": [
      "3\n"
     ]
    }
   ],
   "source": [
    "n=int(input(\"Enter value of n\"))\n",
    "sum=0\n",
    "for i in range(1,n+1):\n",
    "    for j in range(2,i):\n",
    "        if j%i==0:\n",
    "            break\n",
    "    sum+=i\n",
    "print(sum)"
   ]
  },
  {
   "cell_type": "markdown",
   "id": "3b9bfcce-2712-4082-829e-967cc59f9514",
   "metadata": {},
   "source": [
    "### 6.1: WAP using function that add all odd numbers from 1 to n, n is given by the user."
   ]
  },
  {
   "cell_type": "code",
   "execution_count": 28,
   "id": "a0c20a97-d811-47ba-b040-1077cf29a341",
   "metadata": {
    "jp-MarkdownHeadingCollapsed": true
   },
   "outputs": [
    {
     "name": "stdin",
     "output_type": "stream",
     "text": [
      "Enter value of n  5\n"
     ]
    },
    {
     "name": "stdout",
     "output_type": "stream",
     "text": [
      "9\n"
     ]
    }
   ],
   "source": [
    "def add_odds(n):\n",
    "    sum=0\n",
    "    for i in range(1,n+1):\n",
    "        if(i%2==0):\n",
    "            pass\n",
    "        else:\n",
    "            sum+=i\n",
    "    return sum\n",
    "n=int(input(\"Enter value of n \"))       \n",
    "res=add_odds(n)\n",
    "print(res)"
   ]
  },
  {
   "cell_type": "markdown",
   "id": "5be7bca4-d1c2-4a1e-9b23-b8924a5525d5",
   "metadata": {},
   "source": [
    "### 6.2: WAP using function that add all prime numbers from 1 to n, n given by the user."
   ]
  },
  {
   "cell_type": "code",
   "execution_count": 29,
   "id": "3eea74f7-1af7-4024-84b3-b498ad062587",
   "metadata": {},
   "outputs": [
    {
     "name": "stdin",
     "output_type": "stream",
     "text": [
      "Enter value of n  2\n"
     ]
    },
    {
     "name": "stdout",
     "output_type": "stream",
     "text": [
      "3\n"
     ]
    }
   ],
   "source": [
    "\n",
    "def add_prime(n):\n",
    "    sum=0\n",
    "    for i in range(1,n+1):\n",
    "        for j in range(2,i):\n",
    "            if j%i==0:\n",
    "                break\n",
    "        sum+=i\n",
    "    return sum\n",
    "n=int(input(\"Enter value of n \"))       \n",
    "res=add_prime(n)\n",
    "print(res)\n"
   ]
  },
  {
   "cell_type": "code",
   "execution_count": null,
   "id": "5e184a41-40c6-45c8-926d-0ab77c9d1fb3",
   "metadata": {},
   "outputs": [],
   "source": []
  },
  {
   "cell_type": "code",
   "execution_count": null,
   "id": "1f52f0cf-ae56-45de-8a3a-1e3c20571bdb",
   "metadata": {},
   "outputs": [],
   "source": []
  },
  {
   "cell_type": "code",
   "execution_count": null,
   "id": "2e9dd6a7-305a-4739-a4b5-678633bda24c",
   "metadata": {},
   "outputs": [],
   "source": []
  },
  {
   "cell_type": "code",
   "execution_count": null,
   "id": "49169c6f-1adc-4de0-bce5-f21ee745d68e",
   "metadata": {},
   "outputs": [],
   "source": []
  }
 ],
 "metadata": {
  "kernelspec": {
   "display_name": "Python 3 (ipykernel)",
   "language": "python",
   "name": "python3"
  },
  "language_info": {
   "codemirror_mode": {
    "name": "ipython",
    "version": 3
   },
   "file_extension": ".py",
   "mimetype": "text/x-python",
   "name": "python",
   "nbconvert_exporter": "python",
   "pygments_lexer": "ipython3",
   "version": "3.10.6"
  }
 },
 "nbformat": 4,
 "nbformat_minor": 5
}
