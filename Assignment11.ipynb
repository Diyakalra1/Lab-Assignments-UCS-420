{
 "cells": [
  {
   "cell_type": "markdown",
   "id": "4337c590-aa82-4956-95eb-8362defaa325",
   "metadata": {},
   "source": [
    "Design a Cognitive Assistant for Reading Labels of medicine bottle (You can download\n",
    "Dataset from Internet)"
   ]
  },
  {
   "cell_type": "code",
   "execution_count": 4,
   "id": "e84bbd5a-9a66-4067-8ba2-8adefe2cdb41",
   "metadata": {},
   "outputs": [
    {
     "name": "stdout",
     "output_type": "stream",
     "text": [
      "Collecting landingai\n",
      "  Downloading landingai-0.3.49-py3-none-any.whl.metadata (8.6 kB)\n",
      "Collecting aiofiles<1.0.0,>=0.7.0 (from landingai)\n",
      "  Downloading aiofiles-0.8.0-py3-none-any.whl.metadata (7.0 kB)\n",
      "Collecting aiohttp<4.0.0,>=3.7.3 (from aiohttp[speedups]<4.0.0,>=3.7.3->landingai)\n",
      "  Downloading aiohttp-3.11.18-cp310-cp310-win_amd64.whl.metadata (8.0 kB)\n",
      "Collecting bbox-visualizer<0.2.0,>=0.1.0 (from landingai)\n",
      "  Downloading bbox_visualizer-0.1.0-py2.py3-none-any.whl.metadata (4.2 kB)\n",
      "Collecting imageio<3.0.0,>=2.0.0 (from imageio[ffmpeg]<3.0.0,>=2.0.0->landingai)\n",
      "  Downloading imageio-2.37.0-py3-none-any.whl.metadata (5.2 kB)\n",
      "Collecting numpy<2.0.0,>=1.21.0 (from landingai)\n",
      "  Downloading numpy-1.26.4-cp310-cp310-win_amd64.whl.metadata (61 kB)\n",
      "Collecting opencv-python<5.0,>=4.5 (from landingai)\n",
      "  Downloading opencv_python-4.11.0.86-cp37-abi3-win_amd64.whl.metadata (20 kB)\n",
      "Requirement already satisfied: pandas<3.0.0,>=2.0.0 in c:\\python310\\lib\\site-packages (from landingai) (2.2.2)\n",
      "Requirement already satisfied: pillow<11.0,>=9.0 in c:\\python310\\lib\\site-packages (from landingai) (9.3.0)\n",
      "Requirement already satisfied: pydantic<3.0.0,>=2.0.0 in c:\\python310\\lib\\site-packages (from landingai) (2.11.4)\n",
      "Collecting pydantic-settings<3.0.0,>=2.3.1 (from landingai)\n",
      "  Downloading pydantic_settings-2.9.1-py3-none-any.whl.metadata (3.8 kB)\n",
      "Requirement already satisfied: requests<3.0.0,>=2.0.0 in c:\\python310\\lib\\site-packages (from landingai) (2.32.3)\n",
      "Collecting requests-toolbelt<2.0.0,>=1.0.0 (from landingai)\n",
      "  Downloading requests_toolbelt-1.0.0-py2.py3-none-any.whl.metadata (14 kB)\n",
      "Collecting segmentation-mask-overlay<0.4.0,>=0.3.4 (from landingai)\n",
      "  Downloading segmentation_mask_overlay-0.3.4-py3-none-any.whl.metadata (2.0 kB)\n",
      "Collecting tenacity<9.0.0,>=8.2.3 (from landingai)\n",
      "  Downloading tenacity-8.5.0-py3-none-any.whl.metadata (1.2 kB)\n",
      "Requirement already satisfied: tqdm<5.0.0,>=4.64.0 in c:\\python310\\lib\\site-packages (from landingai) (4.67.1)\n",
      "Requirement already satisfied: urllib3<2.0.0,>=1.26.0 in c:\\python310\\lib\\site-packages (from landingai) (1.26.12)\n",
      "Collecting aiohappyeyeballs>=2.3.0 (from aiohttp<4.0.0,>=3.7.3->aiohttp[speedups]<4.0.0,>=3.7.3->landingai)\n",
      "  Downloading aiohappyeyeballs-2.6.1-py3-none-any.whl.metadata (5.9 kB)\n",
      "Collecting aiosignal>=1.1.2 (from aiohttp<4.0.0,>=3.7.3->aiohttp[speedups]<4.0.0,>=3.7.3->landingai)\n",
      "  Downloading aiosignal-1.3.2-py2.py3-none-any.whl.metadata (3.8 kB)\n",
      "Collecting async-timeout<6.0,>=4.0 (from aiohttp<4.0.0,>=3.7.3->aiohttp[speedups]<4.0.0,>=3.7.3->landingai)\n",
      "  Downloading async_timeout-5.0.1-py3-none-any.whl.metadata (5.1 kB)\n",
      "Requirement already satisfied: attrs>=17.3.0 in c:\\python310\\lib\\site-packages (from aiohttp<4.0.0,>=3.7.3->aiohttp[speedups]<4.0.0,>=3.7.3->landingai) (23.2.0)\n",
      "Collecting frozenlist>=1.1.1 (from aiohttp<4.0.0,>=3.7.3->aiohttp[speedups]<4.0.0,>=3.7.3->landingai)\n",
      "  Downloading frozenlist-1.6.0-cp310-cp310-win_amd64.whl.metadata (16 kB)\n",
      "Collecting multidict<7.0,>=4.5 (from aiohttp<4.0.0,>=3.7.3->aiohttp[speedups]<4.0.0,>=3.7.3->landingai)\n",
      "  Downloading multidict-6.4.3-cp310-cp310-win_amd64.whl.metadata (5.5 kB)\n",
      "Collecting propcache>=0.2.0 (from aiohttp<4.0.0,>=3.7.3->aiohttp[speedups]<4.0.0,>=3.7.3->landingai)\n",
      "  Downloading propcache-0.3.1-cp310-cp310-win_amd64.whl.metadata (11 kB)\n",
      "Collecting yarl<2.0,>=1.17.0 (from aiohttp<4.0.0,>=3.7.3->aiohttp[speedups]<4.0.0,>=3.7.3->landingai)\n",
      "  Downloading yarl-1.20.0-cp310-cp310-win_amd64.whl.metadata (74 kB)\n",
      "Collecting Brotli (from aiohttp[speedups]<4.0.0,>=3.7.3->landingai)\n",
      "  Downloading Brotli-1.1.0-cp310-cp310-win_amd64.whl.metadata (5.6 kB)\n",
      "Collecting imageio-ffmpeg (from imageio[ffmpeg]<3.0.0,>=2.0.0->landingai)\n",
      "  Downloading imageio_ffmpeg-0.6.0-py3-none-win_amd64.whl.metadata (1.5 kB)\n",
      "Requirement already satisfied: psutil in c:\\python310\\lib\\site-packages (from imageio[ffmpeg]<3.0.0,>=2.0.0->landingai) (5.9.8)\n",
      "Requirement already satisfied: python-dateutil>=2.8.2 in c:\\python310\\lib\\site-packages (from pandas<3.0.0,>=2.0.0->landingai) (2.9.0.post0)\n",
      "Requirement already satisfied: pytz>=2020.1 in c:\\python310\\lib\\site-packages (from pandas<3.0.0,>=2.0.0->landingai) (2024.1)\n",
      "Requirement already satisfied: tzdata>=2022.7 in c:\\python310\\lib\\site-packages (from pandas<3.0.0,>=2.0.0->landingai) (2024.1)\n",
      "Requirement already satisfied: annotated-types>=0.6.0 in c:\\python310\\lib\\site-packages (from pydantic<3.0.0,>=2.0.0->landingai) (0.7.0)\n",
      "Requirement already satisfied: pydantic-core==2.33.2 in c:\\python310\\lib\\site-packages (from pydantic<3.0.0,>=2.0.0->landingai) (2.33.2)\n",
      "Requirement already satisfied: typing-extensions>=4.12.2 in c:\\python310\\lib\\site-packages (from pydantic<3.0.0,>=2.0.0->landingai) (4.13.2)\n",
      "Requirement already satisfied: typing-inspection>=0.4.0 in c:\\python310\\lib\\site-packages (from pydantic<3.0.0,>=2.0.0->landingai) (0.4.0)\n",
      "Collecting python-dotenv>=0.21.0 (from pydantic-settings<3.0.0,>=2.3.1->landingai)\n",
      "  Using cached python_dotenv-1.1.0-py3-none-any.whl.metadata (24 kB)\n",
      "Requirement already satisfied: charset-normalizer<4,>=2 in c:\\python310\\lib\\site-packages (from requests<3.0.0,>=2.0.0->landingai) (2.1.1)\n",
      "Requirement already satisfied: idna<4,>=2.5 in c:\\python310\\lib\\site-packages (from requests<3.0.0,>=2.0.0->landingai) (3.4)\n",
      "Requirement already satisfied: certifi>=2017.4.17 in c:\\python310\\lib\\site-packages (from requests<3.0.0,>=2.0.0->landingai) (2022.9.24)\n",
      "Requirement already satisfied: matplotlib>=3.4.2 in c:\\python310\\lib\\site-packages (from segmentation-mask-overlay<0.4.0,>=0.3.4->landingai) (3.9.0)\n",
      "Collecting opencv-python-headless>=4.5.3 (from segmentation-mask-overlay<0.4.0,>=0.3.4->landingai)\n",
      "  Downloading opencv_python_headless-4.11.0.86-cp37-abi3-win_amd64.whl.metadata (20 kB)\n",
      "Requirement already satisfied: colorama in c:\\python310\\lib\\site-packages (from tqdm<5.0.0,>=4.64.0->landingai) (0.4.6)\n",
      "Requirement already satisfied: contourpy>=1.0.1 in c:\\python310\\lib\\site-packages (from matplotlib>=3.4.2->segmentation-mask-overlay<0.4.0,>=0.3.4->landingai) (1.2.1)\n",
      "Requirement already satisfied: cycler>=0.10 in c:\\python310\\lib\\site-packages (from matplotlib>=3.4.2->segmentation-mask-overlay<0.4.0,>=0.3.4->landingai) (0.12.1)\n",
      "Requirement already satisfied: fonttools>=4.22.0 in c:\\python310\\lib\\site-packages (from matplotlib>=3.4.2->segmentation-mask-overlay<0.4.0,>=0.3.4->landingai) (4.53.0)\n",
      "Requirement already satisfied: kiwisolver>=1.3.1 in c:\\python310\\lib\\site-packages (from matplotlib>=3.4.2->segmentation-mask-overlay<0.4.0,>=0.3.4->landingai) (1.4.5)\n",
      "Requirement already satisfied: packaging>=20.0 in c:\\python310\\lib\\site-packages (from matplotlib>=3.4.2->segmentation-mask-overlay<0.4.0,>=0.3.4->landingai) (24.0)\n",
      "Requirement already satisfied: pyparsing>=2.3.1 in c:\\python310\\lib\\site-packages (from matplotlib>=3.4.2->segmentation-mask-overlay<0.4.0,>=0.3.4->landingai) (3.1.2)\n",
      "Requirement already satisfied: six>=1.5 in c:\\python310\\lib\\site-packages (from python-dateutil>=2.8.2->pandas<3.0.0,>=2.0.0->landingai) (1.16.0)\n",
      "Downloading landingai-0.3.49-py3-none-any.whl (1.0 MB)\n",
      "   ---------------------------------------- 0.0/1.0 MB ? eta -:--:--\n",
      "   ---------------------------------------- 1.0/1.0 MB 10.1 MB/s eta 0:00:00\n",
      "Downloading aiofiles-0.8.0-py3-none-any.whl (13 kB)\n",
      "Downloading aiohttp-3.11.18-cp310-cp310-win_amd64.whl (442 kB)\n",
      "Downloading bbox_visualizer-0.1.0-py2.py3-none-any.whl (6.2 kB)\n",
      "Downloading imageio-2.37.0-py3-none-any.whl (315 kB)\n",
      "Downloading numpy-1.26.4-cp310-cp310-win_amd64.whl (15.8 MB)\n",
      "   ---------------------------------------- 0.0/15.8 MB ? eta -:--:--\n",
      "   ----- ---------------------------------- 2.4/15.8 MB 12.2 MB/s eta 0:00:02\n",
      "   ----- ---------------------------------- 2.4/15.8 MB 12.2 MB/s eta 0:00:02\n",
      "   -------- ------------------------------- 3.4/15.8 MB 5.4 MB/s eta 0:00:03\n",
      "   -------------- ------------------------- 5.8/15.8 MB 7.0 MB/s eta 0:00:02\n",
      "   --------------------- ------------------ 8.4/15.8 MB 8.3 MB/s eta 0:00:01\n",
      "   --------------------------- ------------ 10.7/15.8 MB 8.8 MB/s eta 0:00:01\n",
      "   --------------------------------- ------ 13.4/15.8 MB 9.3 MB/s eta 0:00:01\n",
      "   ----------------------------------- ---- 14.2/15.8 MB 9.5 MB/s eta 0:00:01\n",
      "   ------------------------------------ --- 14.4/15.8 MB 7.9 MB/s eta 0:00:01\n",
      "   ---------------------------------------- 15.8/15.8 MB 7.9 MB/s eta 0:00:00\n",
      "Downloading opencv_python-4.11.0.86-cp37-abi3-win_amd64.whl (39.5 MB)\n",
      "   ---------------------------------------- 0.0/39.5 MB ? eta -:--:--\n",
      "   -- ------------------------------------- 2.1/39.5 MB 11.7 MB/s eta 0:00:04\n",
      "   ---- ----------------------------------- 4.5/39.5 MB 10.7 MB/s eta 0:00:04\n",
      "   ------ --------------------------------- 6.8/39.5 MB 11.3 MB/s eta 0:00:03\n",
      "   --------- ------------------------------ 8.9/39.5 MB 10.9 MB/s eta 0:00:03\n",
      "   ----------- ---------------------------- 11.5/39.5 MB 11.1 MB/s eta 0:00:03\n",
      "   ------------- -------------------------- 13.1/39.5 MB 11.1 MB/s eta 0:00:03\n",
      "   ------------- -------------------------- 13.4/39.5 MB 9.1 MB/s eta 0:00:03\n",
      "   --------------- ------------------------ 15.7/39.5 MB 9.5 MB/s eta 0:00:03\n",
      "   ----------------- ---------------------- 17.6/39.5 MB 9.4 MB/s eta 0:00:03\n",
      "   -------------------- ------------------- 19.9/39.5 MB 9.7 MB/s eta 0:00:03\n",
      "   ---------------------- ----------------- 22.3/39.5 MB 9.9 MB/s eta 0:00:02\n",
      "   ----------------------- ---------------- 23.6/39.5 MB 9.9 MB/s eta 0:00:02\n",
      "   ------------------------ --------------- 24.1/39.5 MB 9.0 MB/s eta 0:00:02\n",
      "   -------------------------- ------------- 26.5/39.5 MB 9.2 MB/s eta 0:00:02\n",
      "   ----------------------------- ---------- 29.1/39.5 MB 9.4 MB/s eta 0:00:02\n",
      "   ------------------------------- -------- 31.5/39.5 MB 9.6 MB/s eta 0:00:01\n",
      "   -------------------------------- ------- 32.0/39.5 MB 9.6 MB/s eta 0:00:01\n",
      "   --------------------------------- ------ 33.6/39.5 MB 9.0 MB/s eta 0:00:01\n",
      "   ------------------------------------ --- 35.9/39.5 MB 9.2 MB/s eta 0:00:01\n",
      "   -------------------------------------- - 38.3/39.5 MB 9.3 MB/s eta 0:00:01\n",
      "   -------------------------------------- - 38.3/39.5 MB 9.3 MB/s eta 0:00:01\n",
      "   ---------------------------------------  38.5/39.5 MB 8.5 MB/s eta 0:00:01\n",
      "   ---------------------------------------  38.5/39.5 MB 8.5 MB/s eta 0:00:01\n",
      "   ---------------------------------------  38.5/39.5 MB 8.5 MB/s eta 0:00:01\n",
      "   ---------------------------------------  38.5/39.5 MB 8.5 MB/s eta 0:00:01\n",
      "   ---------------------------------------- 39.5/39.5 MB 7.3 MB/s eta 0:00:00\n",
      "Downloading pydantic_settings-2.9.1-py3-none-any.whl (44 kB)\n",
      "Downloading requests_toolbelt-1.0.0-py2.py3-none-any.whl (54 kB)\n",
      "Downloading segmentation_mask_overlay-0.3.4-py3-none-any.whl (276 kB)\n",
      "Downloading tenacity-8.5.0-py3-none-any.whl (28 kB)\n",
      "Downloading aiohappyeyeballs-2.6.1-py3-none-any.whl (15 kB)\n",
      "Downloading aiosignal-1.3.2-py2.py3-none-any.whl (7.6 kB)\n",
      "Downloading async_timeout-5.0.1-py3-none-any.whl (6.2 kB)\n",
      "Downloading frozenlist-1.6.0-cp310-cp310-win_amd64.whl (120 kB)\n",
      "Downloading multidict-6.4.3-cp310-cp310-win_amd64.whl (38 kB)\n",
      "Downloading opencv_python_headless-4.11.0.86-cp37-abi3-win_amd64.whl (39.4 MB)\n",
      "   ---------------------------------------- 0.0/39.4 MB ? eta -:--:--\n",
      "   -- ------------------------------------- 2.4/39.4 MB 12.2 MB/s eta 0:00:04\n",
      "   ---- ----------------------------------- 4.7/39.4 MB 11.9 MB/s eta 0:00:03\n",
      "   ------- -------------------------------- 7.1/39.4 MB 11.8 MB/s eta 0:00:03\n",
      "   -------- ------------------------------- 8.7/39.4 MB 11.0 MB/s eta 0:00:03\n",
      "   ----------- ---------------------------- 11.0/39.4 MB 11.1 MB/s eta 0:00:03\n",
      "   ------------- -------------------------- 13.1/39.4 MB 11.0 MB/s eta 0:00:03\n",
      "   --------------- ------------------------ 15.7/39.4 MB 11.1 MB/s eta 0:00:03\n",
      "   ------------------ --------------------- 18.1/39.4 MB 11.2 MB/s eta 0:00:02\n",
      "   ------------------- -------------------- 19.4/39.4 MB 11.2 MB/s eta 0:00:02\n",
      "   ------------------- -------------------- 19.7/39.4 MB 9.8 MB/s eta 0:00:03\n",
      "   ---------------------- ----------------- 22.0/39.4 MB 9.8 MB/s eta 0:00:02\n",
      "   ------------------------ --------------- 24.4/39.4 MB 10.0 MB/s eta 0:00:02\n",
      "   --------------------------- ------------ 26.7/39.4 MB 10.1 MB/s eta 0:00:02\n",
      "   ----------------------------- ---------- 28.8/39.4 MB 10.1 MB/s eta 0:00:02\n",
      "   ------------------------------ --------- 30.4/39.4 MB 10.2 MB/s eta 0:00:01\n",
      "   ------------------------------- -------- 30.7/39.4 MB 9.4 MB/s eta 0:00:01\n",
      "   --------------------------------- ------ 33.0/39.4 MB 9.5 MB/s eta 0:00:01\n",
      "   ----------------------------------- ---- 35.4/39.4 MB 9.6 MB/s eta 0:00:01\n",
      "   -------------------------------------- - 37.5/39.4 MB 9.6 MB/s eta 0:00:01\n",
      "   ---------------------------------------  39.3/39.4 MB 9.7 MB/s eta 0:00:01\n",
      "   ---------------------------------------- 39.4/39.4 MB 9.5 MB/s eta 0:00:00\n",
      "Downloading propcache-0.3.1-cp310-cp310-win_amd64.whl (45 kB)\n",
      "Using cached python_dotenv-1.1.0-py3-none-any.whl (20 kB)\n",
      "Downloading yarl-1.20.0-cp310-cp310-win_amd64.whl (92 kB)\n",
      "Downloading Brotli-1.1.0-cp310-cp310-win_amd64.whl (357 kB)\n",
      "Downloading imageio_ffmpeg-0.6.0-py3-none-win_amd64.whl (31.2 MB)\n",
      "   ---------------------------------------- 0.0/31.2 MB ? eta -:--:--\n",
      "   --- ------------------------------------ 2.4/31.2 MB 12.2 MB/s eta 0:00:03\n",
      "   ------ --------------------------------- 4.7/31.2 MB 11.9 MB/s eta 0:00:03\n",
      "   --------- ------------------------------ 7.3/31.2 MB 11.9 MB/s eta 0:00:03\n",
      "   ---------- ----------------------------- 8.4/31.2 MB 11.8 MB/s eta 0:00:02\n",
      "   ---------- ----------------------------- 8.4/31.2 MB 11.8 MB/s eta 0:00:02\n",
      "   -------------- ------------------------- 11.0/31.2 MB 8.9 MB/s eta 0:00:03\n",
      "   ----------------- ---------------------- 13.6/31.2 MB 9.4 MB/s eta 0:00:02\n",
      "   -------------------- ------------------- 16.0/31.2 MB 9.7 MB/s eta 0:00:02\n",
      "   ---------------------- ----------------- 17.6/31.2 MB 9.9 MB/s eta 0:00:02\n",
      "   ---------------------- ----------------- 17.6/31.2 MB 9.9 MB/s eta 0:00:02\n",
      "   ------------------------- -------------- 19.9/31.2 MB 8.6 MB/s eta 0:00:02\n",
      "   ---------------------------- ----------- 22.0/31.2 MB 8.7 MB/s eta 0:00:02\n",
      "   ------------------------------- -------- 24.4/31.2 MB 8.9 MB/s eta 0:00:01\n",
      "   --------------------------------- ------ 26.5/31.2 MB 8.9 MB/s eta 0:00:01\n",
      "   ------------------------------------ --- 28.8/31.2 MB 9.1 MB/s eta 0:00:01\n",
      "   -------------------------------------- - 30.4/31.2 MB 8.8 MB/s eta 0:00:01\n",
      "   ---------------------------------------- 31.2/31.2 MB 8.5 MB/s eta 0:00:00\n",
      "Installing collected packages: Brotli, tenacity, python-dotenv, propcache, numpy, multidict, imageio-ffmpeg, frozenlist, bbox-visualizer, async-timeout, aiohappyeyeballs, aiofiles, yarl, requests-toolbelt, opencv-python-headless, opencv-python, imageio, aiosignal, pydantic-settings, aiohttp, segmentation-mask-overlay, landingai\n",
      "  Attempting uninstall: numpy\n",
      "    Found existing installation: numpy 2.2.5\n",
      "    Uninstalling numpy-2.2.5:\n",
      "      Successfully uninstalled numpy-2.2.5\n",
      "Successfully installed Brotli-1.1.0 aiofiles-0.8.0 aiohappyeyeballs-2.6.1 aiohttp-3.11.18 aiosignal-1.3.2 async-timeout-5.0.1 bbox-visualizer-0.1.0 frozenlist-1.6.0 imageio-2.37.0 imageio-ffmpeg-0.6.0 landingai-0.3.49 multidict-6.4.3 numpy-1.26.4 opencv-python-4.11.0.86 opencv-python-headless-4.11.0.86 propcache-0.3.1 pydantic-settings-2.9.1 python-dotenv-1.1.0 requests-toolbelt-1.0.0 segmentation-mask-overlay-0.3.4 tenacity-8.5.0 yarl-1.20.0\n"
     ]
    },
    {
     "name": "stderr",
     "output_type": "stream",
     "text": [
      "  WARNING: Failed to remove contents in a temporary directory 'C:\\Python310\\Lib\\site-packages\\~umpy.libs'.\n",
      "  You can safely remove it manually.\n",
      "  WARNING: Failed to remove contents in a temporary directory 'C:\\Python310\\Lib\\site-packages\\~-mpy'.\n",
      "  You can safely remove it manually.\n",
      "ERROR: pip's dependency resolver does not currently take into account all the packages that are installed. This behaviour is the source of the following dependency conflicts.\n",
      "thinc 8.3.6 requires numpy<3.0.0,>=2.0.0, but you have numpy 1.26.4 which is incompatible.\n",
      "\n",
      "[notice] A new release of pip is available: 25.0.1 -> 25.1.1\n",
      "[notice] To update, run: python.exe -m pip install --upgrade pip\n"
     ]
    }
   ],
   "source": [
    "!pip install landingai"
   ]
  },
  {
   "cell_type": "code",
   "execution_count": 5,
   "id": "df962f75-495c-4fcf-9d04-edceed568a6c",
   "metadata": {},
   "outputs": [],
   "source": [
    "from PIL import Image\n",
    "from landingai.predict import Predictor"
   ]
  },
  {
   "cell_type": "code",
   "execution_count": 7,
   "id": "b104ba82-2772-4f99-9d9d-58eee70dbdff",
   "metadata": {},
   "outputs": [],
   "source": [
    "\n",
    "\n",
    "# Enter your API Key\n",
    "endpoint_id = \"6cd41466-0f56-48e3-bc47-6a54926e2985\" \n",
    "api_key = \"land_sk_bspevHSipkG6w5SQHeIZGhHc6FrusJ22EuOew7SoBHFL3ox7Ir\"\n",
    "\n",
    "# Load your image\n",
    "image = Image.open(r\"C:\\Users\\diyak\\Pictures\\Screenshots\\Screenshot 2025-05-06 235721.png\")\n",
    "\n",
    "# Run inference\n",
    "predictor = Predictor(endpoint_id, api_key=api_key)\n",
    "predictions = predictor.predict(image)"
   ]
  },
  {
   "cell_type": "code",
   "execution_count": 10,
   "id": "687f101c-5413-4f1f-8b4d-f202a78c68e9",
   "metadata": {},
   "outputs": [
    {
     "data": {
      "text/plain": [
       "[ObjectDetectionPrediction(score=0.6287351846694946, label_name='volini', label_index=1, id='a121be70-e3eb-4d7b-8ae0-769a8034e66b', bboxes=(20, 60, 98, 363))]"
      ]
     },
     "execution_count": 10,
     "metadata": {},
     "output_type": "execute_result"
    }
   ],
   "source": [
    "predictions"
   ]
  },
  {
   "cell_type": "markdown",
   "id": "0d33c79b-b7c8-4823-925e-4af5d7e0a892",
   "metadata": {},
   "source": [
    "Design an Emotion-aware Cognitive Assistant using Facial Expression Detection"
   ]
  },
  {
   "cell_type": "code",
   "execution_count": 13,
   "id": "3ad046b4-b983-4014-9bc6-49c9d6e43dcf",
   "metadata": {},
   "outputs": [],
   "source": [
    "\n",
    "\n",
    "# Enter your API Key\n",
    "endpoint_id = \"d6ea18e0-9fe9-49e9-82bf-9b2d7a777450\"\n",
    "api_key = \"land_sk_bspevHSipkG6w5SQHeIZGhHc6FrusJ22EuOew7SoBHFL3ox7Ir\"\n",
    "\n",
    "# Load your image\n",
    "image = Image.open(r\"C:\\Users\\diyak\\Documents\\Images data\\Screenshot 2025-05-07 002113.png\")\n",
    "\n",
    "# Run inference\n",
    "predictor = Predictor(endpoint_id, api_key=api_key)\n",
    "predictions = predictor.predict(image)"
   ]
  },
  {
   "cell_type": "code",
   "execution_count": 14,
   "id": "e3e192a7-dd4e-428e-a827-5472e0677284",
   "metadata": {},
   "outputs": [
    {
     "data": {
      "text/plain": [
       "[SegmentationPrediction(score=0.8846358358860016, label_name='sad', label_index=2, id='6371be10-979c-2613-3dde-555e32e05f23', encoded_mask='3281Z1N83Z2N82Z2N82Z2N82Z2N82Z2N82Z2N82Z2N82Z3N81Z3N81Z3N81Z3N81Z3N81Z3N81Z3N81Z3N81Z3N81Z3N81Z3N81Z3N81Z3N81Z3N81Z3N81Z3N81Z3N81Z2N82Z2N82Z2N82Z2N82Z2N665Z', encoding_map={'Z': 0, 'N': 1}, mask_shape=(76, 84)),\n",
       " SegmentationPrediction(score=0.8414504940693195, label_name='angry', label_index=3, id='c09272ba-5d1c-71a5-3a4a-8a0acdac95db', encoded_mask='4540Z1N83Z1N83Z1N83Z1N83Z1N83Z1N83Z1N83Z1N83Z1N83Z1N83Z1N83Z1N83Z1N835Z', encoding_map={'Z': 0, 'N': 1}, mask_shape=(76, 84)),\n",
       " SegmentationPrediction(score=0.9704019529634321, label_name='Disgust', label_index=4, id='041d07a2-6dfd-403d-ccce-034dd634dfd6', encoded_mask='3Z248N1Z83N1Z82N2Z81N3Z81N3Z80N4Z79N5Z78N6Z77N7Z77N7Z76N8Z76N8Z76N8Z77N7Z77N7Z77N7Z77N7Z77N8Z76N8Z77N8Z76N9Z76N8Z76N9Z75N9Z75N10Z74N11Z73N11Z74N11Z73N11Z73N11Z75N9Z75N8Z76N8Z76N9Z75N9Z75N9Z75N9Z75N9Z75N10Z75N9Z75N9Z75N9Z75N9Z75N9Z75N9Z76N8Z76N8Z76N8Z76N8Z76N8Z76N8Z76N8Z76N8Z76N8Z76N8Z76N8Z76N8Z76N9Z75N9Z75N9Z75N9Z75N10Z74N10Z74N10Z74N9Z75N9Z75N9Z75N6Z78N6Z78N6Z78N6Z78N5Z78N6Z78N1Z', encoding_map={'Z': 0, 'N': 1}, mask_shape=(76, 84))]"
      ]
     },
     "execution_count": 14,
     "metadata": {},
     "output_type": "execute_result"
    }
   ],
   "source": [
    "predictions"
   ]
  },
  {
   "cell_type": "code",
   "execution_count": 15,
   "id": "a6ddcc9b-2c3e-4d09-8a9d-a2244dea10d0",
   "metadata": {},
   "outputs": [
    {
     "name": "stdout",
     "output_type": "stream",
     "text": [
      "['sad', 'angry', 'Disgust']\n"
     ]
    }
   ],
   "source": [
    "label_names = [pred.label_name for pred in predictions]\n",
    "print(label_names)"
   ]
  },
  {
   "cell_type": "code",
   "execution_count": 16,
   "id": "63f219b0-9f98-4844-8791-36920d992c2c",
   "metadata": {},
   "outputs": [
    {
     "name": "stdout",
     "output_type": "stream",
     "text": [
      "score=0.8846358358860016 label_name='sad' label_index=2 id='6371be10-979c-2613-3dde-555e32e05f23' encoded_mask='3281Z1N83Z2N82Z2N82Z2N82Z2N82Z2N82Z2N82Z2N82Z3N81Z3N81Z3N81Z3N81Z3N81Z3N81Z3N81Z3N81Z3N81Z3N81Z3N81Z3N81Z3N81Z3N81Z3N81Z3N81Z3N81Z2N82Z2N82Z2N82Z2N82Z2N665Z' encoding_map={'Z': 0, 'N': 1} mask_shape=(76, 84)\n"
     ]
    }
   ],
   "source": [
    "print(predictions[0])"
   ]
  },
  {
   "cell_type": "code",
   "execution_count": 17,
   "id": "4b7f41ca-f582-4c8d-a9b9-f0f236a7bd78",
   "metadata": {},
   "outputs": [
    {
     "name": "stdout",
     "output_type": "stream",
     "text": [
      "Disgust\n"
     ]
    }
   ],
   "source": [
    "best_prediction = max(predictions, key=lambda x: x.score)\n",
    "print(best_prediction.label_name)"
   ]
  },
  {
   "cell_type": "code",
   "execution_count": null,
   "id": "74591ec1-da5e-46f6-929c-141388fd6a8c",
   "metadata": {},
   "outputs": [],
   "source": []
  }
 ],
 "metadata": {
  "kernelspec": {
   "display_name": "Python 3 (ipykernel)",
   "language": "python",
   "name": "python3"
  },
  "language_info": {
   "codemirror_mode": {
    "name": "ipython",
    "version": 3
   },
   "file_extension": ".py",
   "mimetype": "text/x-python",
   "name": "python",
   "nbconvert_exporter": "python",
   "pygments_lexer": "ipython3",
   "version": "3.10.6"
  }
 },
 "nbformat": 4,
 "nbformat_minor": 5
}
