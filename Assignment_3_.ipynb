{
 "cells": [
  {
   "cell_type": "markdown",
   "id": "93d5a05d-de36-4d93-9070-9f1b78c74940",
   "metadata": {},
   "source": [
    "### 1)Create a dataset as follow in the table."
   ]
  },
  {
   "cell_type": "code",
   "execution_count": 1,
   "id": "26606cbd-674b-4496-8577-ac9d96492ef7",
   "metadata": {},
   "outputs": [
    {
     "name": "stdout",
     "output_type": "stream",
     "text": [
      "   Tid Refund Marital Status Taxable Income Cheat\n",
      "0    1    Yes         Single           125K    No\n",
      "1    2     No        Married           100K    No\n",
      "2    3     No         Single            70K    No\n",
      "3    4    Yes        Married           120K    No\n",
      "4    5     No       Divorced            95K   Yes\n",
      "5    6     No        Married            60K   Yes\n",
      "6    7     No       Divorced           220K    No\n",
      "7    8     No         Single            85K   Yes\n",
      "8    9    Yes        Married            75K   Yes\n",
      "9   10     No         Single            90K   Yes\n"
     ]
    }
   ],
   "source": [
    "import pandas as pd\n",
    "data = {\n",
    "    \"Tid\": [1, 2, 3, 4, 5, 6, 7, 8, 9, 10],\n",
    "    \"Refund\": [\"Yes\", \"No\", \"No\", \"Yes\", \"No\", \"No\", \"No\", \"No\", \"Yes\", \"No\"],\n",
    "    \"Marital Status\": [\"Single\", \"Married\", \"Single\", \"Married\", \"Divorced\", \"Married\", \"Divorced\", \"Single\", \"Married\", \"Single\"],\n",
    "    \"Taxable Income\": [\"125K\", \"100K\", \"70K\", \"120K\", \"95K\", \"60K\", \"220K\", \"85K\", \"75K\", \"90K\"],\n",
    "    \"Cheat\": [\"No\", \"No\", \"No\", \"No\", \"Yes\", \"Yes\", \"No\", \"Yes\", \"Yes\", \"Yes\"]\n",
    "}\n",
    "df = pd.DataFrame(data)\n",
    "print(df)"
   ]
  },
  {
   "cell_type": "markdown",
   "id": "fb2e004d-493b-4c28-aef9-2c151619e5f6",
   "metadata": {},
   "source": [
    "### 3) From the above table that you have created, locate row 0, 4, 7 and 8 using DataFrame."
   ]
  },
  {
   "cell_type": "code",
   "execution_count": 2,
   "id": "cd9fa1df-eade-4872-a72c-68e0073752a4",
   "metadata": {},
   "outputs": [
    {
     "name": "stdout",
     "output_type": "stream",
     "text": [
      "   Tid Refund Marital Status Taxable Income Cheat\n",
      "0    1    Yes         Single           125K    No\n",
      "4    5     No       Divorced            95K   Yes\n",
      "7    8     No         Single            85K   Yes\n",
      "8    9    Yes        Married            75K   Yes\n"
     ]
    }
   ],
   "source": [
    "selected_rows = df.loc[[0, 4, 7, 8]]\n",
    "print(selected_rows)"
   ]
  },
  {
   "cell_type": "markdown",
   "id": "43152c80-4cc9-48f0-ba70-5e78c472376d",
   "metadata": {},
   "source": [
    "### 3) Navigate the DataFrame and do the following task for the table created in question 1:\n",
    "- Select row from index 3 to 7.\n",
    "- Select row from index 4 to 8, and column 2 to 4.\n",
    "- Select all rows with column index 1 to 3 (include index 3 during selection)."
   ]
  },
  {
   "cell_type": "code",
   "execution_count": 7,
   "id": "eaba3087-270c-44be-97f5-b221b9e5eff2",
   "metadata": {},
   "outputs": [
    {
     "name": "stdout",
     "output_type": "stream",
     "text": [
      "Rows from index 3 to 7:\n",
      "   Tid Refund Marital Status Taxable Income Cheat\n",
      "3    4    Yes        Married           120K    No\n",
      "4    5     No       Divorced            95K   Yes\n",
      "5    6     No        Married            60K   Yes\n",
      "6    7     No       Divorced           220K    No\n"
     ]
    }
   ],
   "source": [
    "rows_3_to_7 = df.iloc[3:7]\n",
    "print(\"Rows from index 3 to 7:\")\n",
    "print(rows_3_to_7)\n",
    "\n"
   ]
  },
  {
   "cell_type": "code",
   "execution_count": 6,
   "id": "aaa594ff-f982-4504-a6b9-e064bf900890",
   "metadata": {},
   "outputs": [
    {
     "name": "stdout",
     "output_type": "stream",
     "text": [
      "Rows from index 4 to 8, and columns 2 to 4:\n",
      "  Marital Status Taxable Income Cheat\n",
      "4       Divorced            95K   Yes\n",
      "5        Married            60K   Yes\n",
      "6       Divorced           220K    No\n",
      "7         Single            85K   Yes\n",
      "8        Married            75K   Yes\n"
     ]
    }
   ],
   "source": [
    "rows = df.iloc[4:9, 2:5]\n",
    "print(\"Rows from index 4 to 8, and columns 2 to 4:\")\n",
    "print(rows)"
   ]
  },
  {
   "cell_type": "code",
   "execution_count": 8,
   "id": "4f914721-678d-436c-bec4-37753a826951",
   "metadata": {},
   "outputs": [
    {
     "name": "stdout",
     "output_type": "stream",
     "text": [
      "All rows with column index 1 to 3:\n",
      "  Refund Marital Status Taxable Income\n",
      "0    Yes         Single           125K\n",
      "1     No        Married           100K\n",
      "2     No         Single            70K\n",
      "3    Yes        Married           120K\n",
      "4     No       Divorced            95K\n",
      "5     No        Married            60K\n",
      "6     No       Divorced           220K\n",
      "7     No         Single            85K\n",
      "8    Yes        Married            75K\n",
      "9     No         Single            90K\n"
     ]
    }
   ],
   "source": [
    "rows= df.iloc[:, 1:4]\n",
    "print(\"All rows with column index 1 to 3:\") \n",
    "print(rows)"
   ]
  },
  {
   "cell_type": "markdown",
   "id": "e3a18376-c986-4372-bd28-0b6f0eb5c56d",
   "metadata": {},
   "source": [
    "### 4) Read a csv file and display its first five rows.\n",
    "### Note-: Download dataset from https://www.kaggle.com/datasets/uciml/iris)"
   ]
  },
  {
   "cell_type": "code",
   "execution_count": 10,
   "id": "4e6334f0-2404-4821-a49f-45b885ec0a84",
   "metadata": {},
   "outputs": [
    {
     "name": "stdout",
     "output_type": "stream",
     "text": [
      "   Id  SepalLengthCm  SepalWidthCm  PetalLengthCm  PetalWidthCm      Species\n",
      "0   1            5.1           3.5            1.4           0.2  Iris-setosa\n",
      "1   2            4.9           3.0            1.4           0.2  Iris-setosa\n",
      "2   3            4.7           3.2            1.3           0.2  Iris-setosa\n",
      "3   4            4.6           3.1            1.5           0.2  Iris-setosa\n",
      "4   5            5.0           3.6            1.4           0.2  Iris-setosa\n"
     ]
    }
   ],
   "source": [
    "import pandas as pd\n",
    "df = pd.read_csv('iris.csv')\n",
    "print(df.head())"
   ]
  },
  {
   "cell_type": "markdown",
   "id": "41c58ba4-d8eb-451c-9848-223e1cad8257",
   "metadata": {},
   "source": [
    "### Q.5 From the csv file (uploaded in the Q.4) delete row 4, and delete column 3. Display the result."
   ]
  },
  {
   "cell_type": "code",
   "execution_count": 11,
   "id": "ca5a48e2-fe85-420b-b195-56a5d04f8e33",
   "metadata": {},
   "outputs": [
    {
     "name": "stdout",
     "output_type": "stream",
     "text": [
      "      Id  SepalLengthCm  PetalLengthCm  PetalWidthCm         Species\n",
      "0      1            5.1            1.4           0.2     Iris-setosa\n",
      "1      2            4.9            1.4           0.2     Iris-setosa\n",
      "2      3            4.7            1.3           0.2     Iris-setosa\n",
      "3      4            4.6            1.5           0.2     Iris-setosa\n",
      "5      6            5.4            1.7           0.4     Iris-setosa\n",
      "..   ...            ...            ...           ...             ...\n",
      "145  146            6.7            5.2           2.3  Iris-virginica\n",
      "146  147            6.3            5.0           1.9  Iris-virginica\n",
      "147  148            6.5            5.2           2.0  Iris-virginica\n",
      "148  149            6.2            5.4           2.3  Iris-virginica\n",
      "149  150            5.9            5.1           1.8  Iris-virginica\n",
      "\n",
      "[149 rows x 5 columns]\n"
     ]
    }
   ],
   "source": [
    "import pandas as pd\n",
    "df = pd.read_csv('iris.csv')\n",
    "df = df.drop(index=4)\n",
    "df = df.drop(df.columns[2], axis=1)\n",
    "print(df)"
   ]
  },
  {
   "cell_type": "markdown",
   "id": "a751cd19-3dd8-4e4d-964f-06d7f2229790",
   "metadata": {},
   "source": [
    "## Q.6 Create a Sample Dataset (employees.csv)\n",
    "\n",
    "### Dataset: Employee Information\n",
    "\n",
    "---\n",
    "\n",
    "### Tasks to Perform on the Dataset\n",
    "\n",
    "#### a) Determine the Shape of the DataFrame\n",
    "- Find the number of rows and columns.\n",
    "\n",
    "#### b) Display a Summary of the DataFrame\n",
    "- Include data types and non-null counts for each column.\n",
    "\n",
    "#### c) Generate Descriptive Statistics\n",
    "- Provide statistical metrics like mean, median, minimum, maximum, etc., for numeric columns.\n",
    "\n",
    "#### d) Display Specific Rows\n",
    "- Display the first 5 rows and the last 3 rows of the DataFrame.\n",
    "\n",
    "#### e) Calculate Specific Statistics\n",
    "1. The average salary of employees.\n",
    "2. The total bonus paid to all employees.\n",
    "3. The youngest employee's age.\n",
    "4. The highest performance rating.\n",
    "\n",
    "#### f) Sort the DataFrame\n",
    "- Sort the DataFrame by the `Salary` column in descending order.\n",
    "\n",
    "#### g) Add a New Column: Performance Category\n",
    "- Categorize employees based on their performance rating:\n",
    "  - **Excellent**: Rating >= 4.5\n",
    "  - **Good**: Rating >= 4.0 but < 4.5\n",
    "  - **Average**: Rating < 4.0\n",
    "\n",
    "#### h) Identify Missing Values\n",
    "- Check for any missing values in the DataFrame.\n",
    "\n",
    "#### i) Rename a Column\n",
    "- Rename the `Employee_ID` column to `ID`.\n",
    "\n",
    "#### j) Filter Employees\n",
    "- Find employees who meet the following conditions:\n",
    "  1. Have more than 5 years of experience.\n",
    "  2. Belong to the IT department.\n",
    "\n",
    "#### k) Add a New Column: Tax\n",
    "- Calculate 10% of the `Salary` for each employee and store it in a new column named `Tax`.\n",
    "\n",
    "#### l) Save the Modified DataFrame\n",
    "- Save the modified DataFrame, including all new columns, to a new CSV file.\n"
   ]
  },
  {
   "cell_type": "code",
   "execution_count": 14,
   "id": "e56468ef-32af-446d-9438-429f11ea1367",
   "metadata": {},
   "outputs": [
    {
     "name": "stdout",
     "output_type": "stream",
     "text": [
      "   Employee_ID     Name Department  Age  Salary  Years_of_Experience  \\\n",
      "0          101    Alice         HR   29   50000                    4   \n",
      "1          102      Bob         IT   34   70000                    8   \n",
      "2          103  Charlie         IT   41   65000                   10   \n",
      "3          104    Diana  Marketing   28   55000                    3   \n",
      "4          105   Edward      Sales   38   60000                   12   \n",
      "\n",
      "  Joining_Date  Gender  Bonus  Rating  \n",
      "0   2020-03-15  Female   5000     4.5  \n",
      "1   2017-07-19    Male   7000     4.0  \n",
      "2   2013-06-01    Male   6000     3.8  \n",
      "3   2021-02-10  Female   4500     4.7  \n",
      "4   2010-11-25    Male   5000     3.5  \n"
     ]
    }
   ],
   "source": [
    "import pandas as pd\n",
    "\n",
    "\n",
    "data = {\n",
    "    \"Employee_ID\": [101, 102, 103, 104, 105],\n",
    "    \"Name\": [\"Alice\", \"Bob\", \"Charlie\", \"Diana\", \"Edward\"],\n",
    "    \"Department\": [\"HR\", \"IT\", \"IT\", \"Marketing\", \"Sales\"],\n",
    "    \"Age\": [29, 34, 41, 28, 38],\n",
    "    \"Salary\": [50000, 70000, 65000, 55000, 60000],\n",
    "    \"Years_of_Experience\": [4, 8, 10, 3, 12],\n",
    "    \"Joining_Date\": [\"2020-03-15\", \"2017-07-19\", \"2013-06-01\", \"2021-02-10\", \"2010-11-25\"],\n",
    "    \"Gender\": [\"Female\", \"Male\", \"Male\", \"Female\", \"Male\"],\n",
    "    \"Bonus\": [5000, 7000, 6000, 4500, 5000],\n",
    "    \"Rating\": [4.5, 4.0, 3.8, 4.7, 3.5]\n",
    "}\n",
    "\n",
    "\n",
    "df = pd.DataFrame(data)\n",
    "\n",
    "\n",
    "print(df)\n"
   ]
  },
  {
   "cell_type": "code",
   "execution_count": 16,
   "id": "b7c8af8f-5f7e-4b4e-a031-5dd9470759e9",
   "metadata": {},
   "outputs": [
    {
     "name": "stdout",
     "output_type": "stream",
     "text": [
      "Shape of the DataFrame: (5, 11)\n",
      "<class 'pandas.core.frame.DataFrame'>\n",
      "RangeIndex: 5 entries, 0 to 4\n",
      "Data columns (total 11 columns):\n",
      " #   Column                Non-Null Count  Dtype  \n",
      "---  ------                --------------  -----  \n",
      " 0   ID                    5 non-null      int64  \n",
      " 1   Name                  5 non-null      object \n",
      " 2   Department            5 non-null      object \n",
      " 3   Age                   5 non-null      int64  \n",
      " 4   Salary                5 non-null      int64  \n",
      " 5   Years_of_Experience   5 non-null      int64  \n",
      " 6   Joining_Date          5 non-null      object \n",
      " 7   Gender                5 non-null      object \n",
      " 8   Bonus                 5 non-null      int64  \n",
      " 9   Rating                5 non-null      float64\n",
      " 10  Performance_Category  5 non-null      object \n",
      "dtypes: float64(1), int64(5), object(5)\n",
      "memory usage: 568.0+ bytes\n",
      "\n",
      "Descriptive Statistics:\n",
      "                ID        Age       Salary  Years_of_Experience   Bonus  \\\n",
      "count    5.000000   5.000000      5.00000             5.000000     5.0   \n",
      "mean   103.000000  34.000000  60000.00000             7.400000  5500.0   \n",
      "std      1.581139   5.612486   7905.69415             3.847077  1000.0   \n",
      "min    101.000000  28.000000  50000.00000             3.000000  4500.0   \n",
      "25%    102.000000  29.000000  55000.00000             4.000000  5000.0   \n",
      "50%    103.000000  34.000000  60000.00000             8.000000  5000.0   \n",
      "75%    104.000000  38.000000  65000.00000            10.000000  6000.0   \n",
      "max    105.000000  41.000000  70000.00000            12.000000  7000.0   \n",
      "\n",
      "         Rating  \n",
      "count  5.000000  \n",
      "mean   4.100000  \n",
      "std    0.494975  \n",
      "min    3.500000  \n",
      "25%    3.800000  \n",
      "50%    4.000000  \n",
      "75%    4.500000  \n",
      "max    4.700000  \n",
      "\n",
      "First 5 Rows:\n",
      "     ID     Name Department  Age  Salary  Years_of_Experience Joining_Date  \\\n",
      "0  101    Alice         HR   29   50000                    4   2020-03-15   \n",
      "1  102      Bob         IT   34   70000                    8   2017-07-19   \n",
      "2  103  Charlie         IT   41   65000                   10   2013-06-01   \n",
      "3  104    Diana  Marketing   28   55000                    3   2021-02-10   \n",
      "4  105   Edward      Sales   38   60000                   12   2010-11-25   \n",
      "\n",
      "   Gender  Bonus  Rating Performance_Category  \n",
      "0  Female   5000     4.5            Excellent  \n",
      "1    Male   7000     4.0                 Good  \n",
      "2    Male   6000     3.8              Average  \n",
      "3  Female   4500     4.7            Excellent  \n",
      "4    Male   5000     3.5              Average  \n",
      "\n",
      "Last 3 Rows:\n",
      "     ID     Name Department  Age  Salary  Years_of_Experience Joining_Date  \\\n",
      "2  103  Charlie         IT   41   65000                   10   2013-06-01   \n",
      "3  104    Diana  Marketing   28   55000                    3   2021-02-10   \n",
      "4  105   Edward      Sales   38   60000                   12   2010-11-25   \n",
      "\n",
      "   Gender  Bonus  Rating Performance_Category  \n",
      "2    Male   6000     3.8              Average  \n",
      "3  Female   4500     4.7            Excellent  \n",
      "4    Male   5000     3.5              Average  \n",
      "\n",
      "Average Salary: 60000.0\n",
      "Total Bonus: 27500\n",
      "Youngest Employee's Age: 28\n",
      "Highest Performance Rating: 4.7\n",
      "\n",
      "DataFrame Sorted by Salary (Descending):\n",
      "     ID     Name Department  Age  Salary  Years_of_Experience Joining_Date  \\\n",
      "1  102      Bob         IT   34   70000                    8   2017-07-19   \n",
      "2  103  Charlie         IT   41   65000                   10   2013-06-01   \n",
      "4  105   Edward      Sales   38   60000                   12   2010-11-25   \n",
      "3  104    Diana  Marketing   28   55000                    3   2021-02-10   \n",
      "0  101    Alice         HR   29   50000                    4   2020-03-15   \n",
      "\n",
      "   Gender  Bonus  Rating Performance_Category  \n",
      "1    Male   7000     4.0                 Good  \n",
      "2    Male   6000     3.8              Average  \n",
      "4    Male   5000     3.5              Average  \n",
      "3  Female   4500     4.7            Excellent  \n",
      "0  Female   5000     4.5            Excellent  \n",
      "\n",
      "DataFrame with Performance Categories:\n",
      "     ID     Name Department  Age  Salary  Years_of_Experience Joining_Date  \\\n",
      "0  101    Alice         HR   29   50000                    4   2020-03-15   \n",
      "1  102      Bob         IT   34   70000                    8   2017-07-19   \n",
      "2  103  Charlie         IT   41   65000                   10   2013-06-01   \n",
      "3  104    Diana  Marketing   28   55000                    3   2021-02-10   \n",
      "4  105   Edward      Sales   38   60000                   12   2010-11-25   \n",
      "\n",
      "   Gender  Bonus  Rating Performance_Category  \n",
      "0  Female   5000     4.5            Excellent  \n",
      "1    Male   7000     4.0                 Good  \n",
      "2    Male   6000     3.8              Average  \n",
      "3  Female   4500     4.7            Excellent  \n",
      "4    Male   5000     3.5              Average  \n",
      "\n",
      "Missing Values in Each Column:\n",
      " ID                      0\n",
      "Name                    0\n",
      "Department              0\n",
      "Age                     0\n",
      "Salary                  0\n",
      "Years_of_Experience     0\n",
      "Joining_Date            0\n",
      "Gender                  0\n",
      "Bonus                   0\n",
      "Rating                  0\n",
      "Performance_Category    0\n",
      "dtype: int64\n",
      "\n",
      "DataFrame with Renamed Column:\n",
      "     ID     Name Department  Age  Salary  Years_of_Experience Joining_Date  \\\n",
      "0  101    Alice         HR   29   50000                    4   2020-03-15   \n",
      "1  102      Bob         IT   34   70000                    8   2017-07-19   \n",
      "2  103  Charlie         IT   41   65000                   10   2013-06-01   \n",
      "3  104    Diana  Marketing   28   55000                    3   2021-02-10   \n",
      "4  105   Edward      Sales   38   60000                   12   2010-11-25   \n",
      "\n",
      "   Gender  Bonus  Rating Performance_Category  \n",
      "0  Female   5000     4.5            Excellent  \n",
      "1    Male   7000     4.0                 Good  \n",
      "2    Male   6000     3.8              Average  \n",
      "3  Female   4500     4.7            Excellent  \n",
      "4    Male   5000     3.5              Average  \n"
     ]
    }
   ],
   "source": [
    "\n",
    "shape = df.shape\n",
    "print(\"Shape of the DataFrame:\", shape)\n",
    "summary = df.info()\n",
    "descriptive_stats = df.describe()\n",
    "print(\"\\nDescriptive Statistics:\\n\", descriptive_stats)\n",
    "print(\"\\nFirst 5 Rows:\\n\", df.head())\n",
    "print(\"\\nLast 3 Rows:\\n\", df.tail(3))\n",
    "average_salary = df[\"Salary\"].mean()\n",
    "total_bonus = df[\"Bonus\"].sum()\n",
    "youngest_age = df[\"Age\"].min()\n",
    "highest_rating = df[\"Rating\"].max()\n",
    "print(\"\\nAverage Salary:\", average_salary)\n",
    "print(\"Total Bonus:\", total_bonus)\n",
    "print(\"Youngest Employee's Age:\", youngest_age)\n",
    "print(\"Highest Performance Rating:\", highest_rating)\n",
    "sorted_df = df.sort_values(by=\"Salary\", ascending=False)\n",
    "print(\"\\nDataFrame Sorted by Salary (Descending):\\n\", sorted_df)\n",
    "def categorize_rating(rating):\n",
    "    if rating >= 4.5:\n",
    "        return \"Excellent\"\n",
    "    elif 4.0 <= rating < 4.5:\n",
    "        return \"Good\"\n",
    "    else:\n",
    "        return \"Average\"\n",
    "df[\"Performance_Category\"] = df[\"Rating\"].apply(categorize_rating)\n",
    "print(\"\\nDataFrame with Performance Categories:\\n\", df)\n",
    "missing_values = df.isnull().sum()\n",
    "print(\"\\nMissing Values in Each Column:\\n\", missing_values)\n",
    "df.rename(columns={\"Employee_ID\": \"ID\"}, inplace=True)\n",
    "print(\"\\nDataFrame with Renamed Column:\\n\", df)"
   ]
  },
  {
   "cell_type": "code",
   "execution_count": 18,
   "id": "0458e7e9-4507-4633-a5ff-79f1030ce7d5",
   "metadata": {},
   "outputs": [
    {
     "name": "stdout",
     "output_type": "stream",
     "text": [
      "\n",
      "Employees with > 5 Years of Experience in IT Department:\n",
      "     ID     Name Department  Age  Salary  Years_of_Experience Joining_Date  \\\n",
      "1  102      Bob         IT   34   70000                    8   2017-07-19   \n",
      "2  103  Charlie         IT   41   65000                   10   2013-06-01   \n",
      "\n",
      "  Gender  Bonus  Rating Performance_Category  \n",
      "1   Male   7000     4.0                 Good  \n",
      "2   Male   6000     3.8              Average  \n",
      "\n",
      "DataFrame with Tax Column:\n",
      "     ID     Name Department  Age  Salary  Years_of_Experience Joining_Date  \\\n",
      "0  101    Alice         HR   29   50000                    4   2020-03-15   \n",
      "1  102      Bob         IT   34   70000                    8   2017-07-19   \n",
      "2  103  Charlie         IT   41   65000                   10   2013-06-01   \n",
      "3  104    Diana  Marketing   28   55000                    3   2021-02-10   \n",
      "4  105   Edward      Sales   38   60000                   12   2010-11-25   \n",
      "\n",
      "   Gender  Bonus  Rating Performance_Category     Tax  \n",
      "0  Female   5000     4.5            Excellent  5000.0  \n",
      "1    Male   7000     4.0                 Good  7000.0  \n",
      "2    Male   6000     3.8              Average  6500.0  \n",
      "3  Female   4500     4.7            Excellent  5500.0  \n",
      "4    Male   5000     3.5              Average  6000.0  \n",
      "\n",
      "Modified DataFrame saved to 'modified_employees.csv'\n"
     ]
    }
   ],
   "source": [
    "\n",
    "filtered_employees = df[(df[\"Years_of_Experience\"] > 5) & (df[\"Department\"] == \"IT\")]\n",
    "print(\"\\nEmployees with > 5 Years of Experience in IT Department:\\n\", filtered_employees)\n",
    "df[\"Tax\"] = df[\"Salary\"] * 0.1\n",
    "print(\"\\nDataFrame with Tax Column:\\n\", df)\n",
    "df.to_csv(\"modified_employees.csv\", index=False)\n",
    "print(\"\\nModified DataFrame saved to 'modified_employees.csv'\")"
   ]
  },
  {
   "cell_type": "code",
   "execution_count": null,
   "id": "feea79fa-7402-4f16-b6b5-a2344de84fdb",
   "metadata": {},
   "outputs": [],
   "source": []
  }
 ],
 "metadata": {
  "kernelspec": {
   "display_name": "Python 3 (ipykernel)",
   "language": "python",
   "name": "python3"
  },
  "language_info": {
   "codemirror_mode": {
    "name": "ipython",
    "version": 3
   },
   "file_extension": ".py",
   "mimetype": "text/x-python",
   "name": "python",
   "nbconvert_exporter": "python",
   "pygments_lexer": "ipython3",
   "version": "3.10.6"
  }
 },
 "nbformat": 4,
 "nbformat_minor": 5
}
